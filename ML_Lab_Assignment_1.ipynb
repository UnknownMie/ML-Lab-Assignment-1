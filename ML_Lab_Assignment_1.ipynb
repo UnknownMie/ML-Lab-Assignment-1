{
  "nbformat": 4,
  "nbformat_minor": 0,
  "metadata": {
    "colab": {
      "provenance": [],
      "authorship_tag": "ABX9TyPdiMCyOUBQ8tMHytRv8+WJ",
      "include_colab_link": true
    },
    "kernelspec": {
      "name": "python3",
      "display_name": "Python 3"
    },
    "language_info": {
      "name": "python"
    }
  },
  "cells": [
    {
      "cell_type": "markdown",
      "metadata": {
        "id": "view-in-github",
        "colab_type": "text"
      },
      "source": [
        "<a href=\"https://colab.research.google.com/github/UnknownMie/ML-Lab-Assignment-1/blob/main/ML_Lab_Assignment_1.ipynb\" target=\"_parent\"><img src=\"https://colab.research.google.com/assets/colab-badge.svg\" alt=\"Open In Colab\"/></a>"
      ]
    },
    {
      "cell_type": "markdown",
      "source": [
        "---\n",
        "\n",
        "# **Assignment 1**\n",
        "\n",
        "\n",
        "---\n",
        "\n",
        "\n",
        "####Based on NumPy\n",
        "---\n",
        "## **Importing Numpy**\n",
        "\n",
        "---\n",
        "\n"
      ],
      "metadata": {
        "id": "uxOjhgBLN8le"
      }
    },
    {
      "cell_type": "code",
      "source": [
        "import numpy as np"
      ],
      "metadata": {
        "id": "qsP1wqyHTKI5"
      },
      "execution_count": null,
      "outputs": []
    },
    {
      "cell_type": "markdown",
      "source": [
        "\n",
        "\n",
        "---\n",
        "Q1: Questions on Basic NumPy Array\n",
        "\n",
        "(a) Reverse the NumPy array: arr = np.array([1, 2, 3, 6, 4, 5])\n",
        "\n"
      ],
      "metadata": {
        "id": "JtItsUwMSlUH"
      }
    },
    {
      "cell_type": "code",
      "source": [
        "arr = np.array([1, 2, 3, 6, 4, 5])\n",
        "reversed_arr = np.flip(arr)\n",
        "print(reversed_arr)\n"
      ],
      "metadata": {
        "colab": {
          "base_uri": "https://localhost:8080/"
        },
        "id": "PhpTHfXSTawb",
        "outputId": "79f99d1d-6e09-4abb-98df-3cfcb58af516"
      },
      "execution_count": null,
      "outputs": [
        {
          "output_type": "stream",
          "name": "stdout",
          "text": [
            "[5 4 6 3 2 1]\n"
          ]
        }
      ]
    },
    {
      "cell_type": "markdown",
      "source": [
        "(b) Flatten the NumPy arr: array1 = np.array([[1, 2, 3], [2, 4, 5], [1, 2, 3]]) using any two\n",
        "NumPy in-built methods"
      ],
      "metadata": {
        "id": "tMNSgDXWOyOp"
      }
    },
    {
      "cell_type": "code",
      "source": [
        "array1 = np.array([[1, 2, 3], [2, 4, 5], [1, 2, 3]])\n",
        "print(\"Using flatten()\")\n",
        "flattened_arr1 = array1.flatten()\n",
        "print(flattened_arr1)\n",
        "\n",
        "print(\"Using ravel()\") #Value changed in array created by Ravel will\n",
        "# change the initial unflattened array\n",
        "flattened_arr2 = array1.ravel()\n",
        "print(flattened_arr2)\n",
        "\n"
      ],
      "metadata": {
        "colab": {
          "base_uri": "https://localhost:8080/"
        },
        "id": "xl7xO4jiTbV7",
        "outputId": "0bcc09f2-4a7b-4d40-e037-d7f0645301e3"
      },
      "execution_count": null,
      "outputs": [
        {
          "output_type": "stream",
          "name": "stdout",
          "text": [
            "Using flatten()\n",
            "[1 2 3 2 4 5 1 2 3]\n",
            "Using ravel()\n",
            "[1 2 3 2 4 5 1 2 3]\n"
          ]
        }
      ]
    },
    {
      "cell_type": "markdown",
      "source": [
        "\n",
        "(c) Compare the following numpy arrays:\n",
        "\n",
        "arr1 = np.array([[1, 2], [3, 4]])\n",
        "\n",
        "arr2 = np.array([[1, 2], [3, 4]])\n"
      ],
      "metadata": {
        "id": "IUlVofKvPCY4"
      }
    },
    {
      "cell_type": "code",
      "source": [
        "arr1 = np.array([[1, 2], [3, 4]])\n",
        "arr2 = np.array([[1, 2], [3, 4]])\n",
        "\n",
        "are_equal = np.array_equal(arr1, arr2)\n",
        "print(are_equal)\n"
      ],
      "metadata": {
        "colab": {
          "base_uri": "https://localhost:8080/"
        },
        "id": "y9wRBZCITb-s",
        "outputId": "2f7a2f7d-e05b-4e8f-d710-d72d2b950b9a"
      },
      "execution_count": null,
      "outputs": [
        {
          "output_type": "stream",
          "name": "stdout",
          "text": [
            "True\n"
          ]
        }
      ]
    },
    {
      "cell_type": "markdown",
      "source": [
        "(d) Find the most frequent value and their indice(s) in the following arrays:\n",
        "\n",
        "i. x = np.array([1,2,3,4,5,1,2,1,1,1])\n",
        "\n",
        "ii. y = np.array([1, 1, 1, 2, 3, 4, 2, 4, 3, 3, ])\n"
      ],
      "metadata": {
        "id": "7xBk-xjSPZWI"
      }
    },
    {
      "cell_type": "code",
      "source": [
        "#bincount returns an array of frequqncies of numbers\n",
        "#The array size will be +1 to the largest number in array\n",
        "#argmax returns index of largest element of array\n",
        "x = np.array([1,2,3,4,5,1,2,1,1,1])\n",
        "\n",
        "most_frequent_x = np.bincount(x).argmax()\n",
        "indices_x = np.where(x == most_frequent_x)[0]\n",
        "\n",
        "print(\"Most frequent value in x:\", most_frequent_x)\n",
        "print(\"Indices of most frequent value in x:\", indices_x)\n",
        "\n",
        "\n",
        "y = np.array([1, 1, 1, 2, 3, 4, 2, 4, 3, 3])\n",
        "\n",
        "most_frequent_y = np.bincount(y).argmax()\n",
        "indices_y = np.where(y == most_frequent_y)[0]\n",
        "\n",
        "print(\"Most frequent value in y:\", most_frequent_y)\n",
        "print(\"Indices of most frequent value in y:\", indices_y)"
      ],
      "metadata": {
        "colab": {
          "base_uri": "https://localhost:8080/"
        },
        "id": "SIQuVKqYTcnV",
        "outputId": "6f0349fb-5056-4f05-e36f-67b8b5abba4d"
      },
      "execution_count": null,
      "outputs": [
        {
          "output_type": "stream",
          "name": "stdout",
          "text": [
            "Most frequent value in x: 1\n",
            "Indices of most frequent value in x: [0 5 7 8 9]\n",
            "Most frequent value in y: 1\n",
            "Indices of most frequent value in y: [0 1 2]\n"
          ]
        }
      ]
    },
    {
      "cell_type": "markdown",
      "source": [
        "(e) For the array gfg = np.matrix('[4, 1, 9; 12, 3, 1; 4, 5, 6]'),\n",
        "\n",
        "\n"
      ],
      "metadata": {
        "id": "AlJiJQhyPssr"
      }
    },
    {
      "cell_type": "code",
      "source": [
        "gfg = np.matrix('[4, 1, 9; 12, 3, 1; 4, 5, 6]')\n"
      ],
      "metadata": {
        "id": "wUr9Wn3flHt2"
      },
      "execution_count": null,
      "outputs": []
    },
    {
      "cell_type": "markdown",
      "source": [
        "Find\n",
        "\n",
        "i. Sum of all elements\n",
        "\n",
        "ii. Sum of all elements row-wise\n",
        "\n",
        "iii. Sum of all elements column-wise"
      ],
      "metadata": {
        "id": "twXsDEdqk9G2"
      }
    },
    {
      "cell_type": "code",
      "source": [
        "# i. Sum of all elements\n",
        "sum = np.sum(gfg)\n",
        "print(\"Sum of all elements:\", sum)\n",
        "\n",
        "# ii. Row-wise\n",
        "sumr = np.sum(gfg, axis=1)\n",
        "print(\"Sum of all elements row-wise:\", sumr)\n",
        "\n",
        "# iii.Column-wise\n",
        "sumc = np.sum(gfg, axis=0)\n",
        "print(\"Sum of all elements column-wise:\", sumc)\n"
      ],
      "metadata": {
        "colab": {
          "base_uri": "https://localhost:8080/"
        },
        "id": "cAgGei66TdVA",
        "outputId": "dfec1997-e4b5-406a-e211-f4180ef76e57"
      },
      "execution_count": null,
      "outputs": [
        {
          "output_type": "stream",
          "name": "stdout",
          "text": [
            "Sum of all elements: 45\n",
            "Sum of all elements row-wise: [[14]\n",
            " [16]\n",
            " [15]]\n",
            "Sum of all elements column-wise: [[20  9 16]]\n"
          ]
        }
      ]
    },
    {
      "cell_type": "markdown",
      "source": [
        "(f) For the matrix: n_array = np.array([[55, 25, 15],[30, 44, 2],[11, 45, 77]]), find\n",
        "\n",
        "i. Sum of diagonal elements\n",
        "\n",
        "ii. Eigen values of matrix\n",
        "\n",
        "iii. Eigen vectors of matrix\n",
        "\n",
        "iv. Inverse of matrix\n",
        "\n",
        "v. Determinant of matrix\n"
      ],
      "metadata": {
        "id": "jXvzonpHP04Y"
      }
    },
    {
      "cell_type": "code",
      "source": [
        "n_array = np.array([[55, 25, 15],[30, 44, 2],[11, 45, 77]])\n",
        "\n",
        "# i. Sum of diagonal elements\n",
        "sum_diagonal_elements = np.trace(n_array)\n",
        "print(\"Sum of diagonal elements:\", sum_diagonal_elements)\n",
        "\n",
        "# ii. Eigen values of matrix\n",
        "eigenvalues = np.linalg.eigvals(n_array)\n",
        "print(\"Eigen values of matrix:\", eigenvalues)\n",
        "\n",
        "# iii. Eigen vectors of matrix\n",
        "_, eigenvectors = np.linalg.eig(n_array)\n",
        "print(\"Eigen vectors of matrix:\")\n",
        "print(eigenvectors)\n",
        "\n",
        "# iv. Inverse of matrix\n",
        "inverse_matrix = np.linalg.inv(n_array)\n",
        "print(\"Inverse of matrix:\")\n",
        "print(inverse_matrix)\n",
        "\n",
        "# v. Determinant of matrix\n",
        "determinant = np.linalg.det(n_array)\n",
        "print(\"Determinant of matrix:\", determinant)\n"
      ],
      "metadata": {
        "colab": {
          "base_uri": "https://localhost:8080/"
        },
        "id": "0bPcwahnTd82",
        "outputId": "82d0aaae-b252-4e51-c5d2-38b62372f54e"
      },
      "execution_count": null,
      "outputs": [
        {
          "output_type": "stream",
          "name": "stdout",
          "text": [
            "Sum of diagonal elements: 176\n",
            "Eigen values of matrix: [98.16835147 28.097044   49.73460452]\n",
            "Eigen vectors of matrix:\n",
            "[[ 0.4574917   0.34637121 -0.15017693]\n",
            " [ 0.28447814 -0.72784061 -0.4852124 ]\n",
            " [ 0.84248058  0.59184038  0.8614034 ]]\n",
            "Inverse of matrix:\n",
            "[[ 0.02404141 -0.00911212 -0.00444671]\n",
            " [-0.01667882  0.02966905  0.0024785 ]\n",
            " [ 0.00631287 -0.01603732  0.01217379]]\n",
            "Determinant of matrix: 137180.0000000001\n"
          ]
        }
      ]
    },
    {
      "cell_type": "markdown",
      "source": [
        "(g) Multiply the following matrices and also find covariance between matrices using NumPy:\n",
        "\n",
        "i. p = [[1, 2], [2, 3]]\n",
        "\n",
        "q = [[4, 5], [6, 7]]\n",
        "\n",
        "ii. p = [[1, 2], [2, 3], [4, 5]]\n",
        "\n",
        "q = [[4, 5, 1], [6, 7, 2]]\n",
        "\n"
      ],
      "metadata": {
        "id": "DvoS64XpP685"
      }
    },
    {
      "cell_type": "code",
      "source": [
        "\n",
        "# i.\n",
        "p = np.array([[1, 2], [2, 3]])\n",
        "q = np.array([[4, 5], [6, 7]])\n",
        "\n",
        "result_matrix = np.dot(p, q)\n",
        "print(\"Matrix multiplication result:\")\n",
        "print(result_matrix)\n",
        "\n",
        "covariance_matrix = np.cov(result_matrix.T)\n",
        "print(\"Covariance between matrices:\")\n",
        "print(covariance_matrix)\n",
        "\n",
        "# ii.\n",
        "p2 = np.array([[1, 2], [2, 3], [4, 5]])\n",
        "q2 = np.array([[4, 5, 1], [6, 7, 2]])\n",
        "\n",
        "result_matrix2 = np.dot(p2, q2)\n",
        "print(\"Matrix multiplication result:\")\n",
        "print(result_matrix2)\n",
        "\n",
        "covariance_matrix2 = np.cov(result_matrix2.T)\n",
        "print(\"Covariance between matrices:\")\n",
        "print(covariance_matrix2)\n"
      ],
      "metadata": {
        "colab": {
          "base_uri": "https://localhost:8080/"
        },
        "id": "5uoESu8kTens",
        "outputId": "99ab49ac-9c2d-4b2a-fed5-22e8820ac0b9"
      },
      "execution_count": null,
      "outputs": [
        {
          "output_type": "stream",
          "name": "stdout",
          "text": [
            "Matrix multiplication result:\n",
            "[[16 19]\n",
            " [26 31]]\n",
            "Covariance between matrices:\n",
            "[[50. 60.]\n",
            " [60. 72.]]\n",
            "Matrix multiplication result:\n",
            "[[16 19  5]\n",
            " [26 31  8]\n",
            " [46 55 14]]\n",
            "Covariance between matrices:\n",
            "[[233.33333333 280.          70.        ]\n",
            " [280.         336.          84.        ]\n",
            " [ 70.          84.          21.        ]]\n"
          ]
        }
      ]
    },
    {
      "cell_type": "markdown",
      "source": [
        "(h) For the matrices: x = np.array([[2, 3, 4], [3, 2, 9]]); y = np.array([[1, 5, 0], [5, 10, 3]]),\n",
        "find inner, outer and cartesian product?"
      ],
      "metadata": {
        "id": "RWU_6DlTQCnx"
      }
    },
    {
      "cell_type": "code",
      "source": [
        "x = np.array([[2, 3, 4], [3, 2, 9]])\n",
        "y = np.array([[1, 5, 0], [5, 10, 3]])\n",
        "\n",
        "# Inner product\n",
        "inner_product = np.inner(x, y)\n",
        "print(\"Inner product:\")\n",
        "print(inner_product)\n",
        "\n",
        "# Outer product\n",
        "outer_product = np.outer(x, y)\n",
        "print(\"Outer product:\")\n",
        "print(outer_product)\n",
        "\n",
        "# Cartesian product\n",
        "cartesian_product = np.kron(x, y)\n",
        "print(\"Cartesian product:\")\n",
        "print(cartesian_product)"
      ],
      "metadata": {
        "colab": {
          "base_uri": "https://localhost:8080/"
        },
        "id": "TwyC3zE4TfDs",
        "outputId": "1c6d8004-6604-49c5-be42-549b99ed9f3b"
      },
      "execution_count": null,
      "outputs": [
        {
          "output_type": "stream",
          "name": "stdout",
          "text": [
            "Inner product:\n",
            "[[17 52]\n",
            " [13 62]]\n",
            "Outer product:\n",
            "[[ 2 10  0 10 20  6]\n",
            " [ 3 15  0 15 30  9]\n",
            " [ 4 20  0 20 40 12]\n",
            " [ 3 15  0 15 30  9]\n",
            " [ 2 10  0 10 20  6]\n",
            " [ 9 45  0 45 90 27]]\n",
            "Cartesian product:\n",
            "[[ 2 10  0  3 15  0  4 20  0]\n",
            " [10 20  6 15 30  9 20 40 12]\n",
            " [ 3 15  0  2 10  0  9 45  0]\n",
            " [15 30  9 10 20  6 45 90 27]]\n"
          ]
        }
      ]
    },
    {
      "cell_type": "markdown",
      "source": [
        "\n",
        "\n",
        "---\n",
        "Q2: Based on NumPy Mathematics and Statistics\n",
        "\n",
        "(a) For the array: array = np.array([[1, -2, 3],[-4, 5, -6]])\n",
        "\n",
        "\n"
      ],
      "metadata": {
        "id": "QnC5ECG0QHzZ"
      }
    },
    {
      "cell_type": "code",
      "source": [
        "array = np.array([[1, -2, 3], [-4, 5, -6]])"
      ],
      "metadata": {
        "id": "NuoGr9-ZVMU5"
      },
      "execution_count": null,
      "outputs": []
    },
    {
      "cell_type": "markdown",
      "source": [
        "i. Find element-wise absolute value"
      ],
      "metadata": {
        "id": "NZGzcaduVKKf"
      }
    },
    {
      "cell_type": "code",
      "source": [
        "absolute_value_array = np.abs(array)\n",
        "print(\"Element-wise absolute value:\")\n",
        "print(absolute_value_array)"
      ],
      "metadata": {
        "colab": {
          "base_uri": "https://localhost:8080/"
        },
        "id": "thlRxRXJTfyD",
        "outputId": "46b37f31-a2a8-4f74-ac21-43bf6fef7a5c"
      },
      "execution_count": null,
      "outputs": [
        {
          "output_type": "stream",
          "name": "stdout",
          "text": [
            "Element-wise absolute value:\n",
            "[[1 2 3]\n",
            " [4 5 6]]\n"
          ]
        }
      ]
    },
    {
      "cell_type": "markdown",
      "source": [
        "ii. Find the 25th, 50th, and 75th percentile of flattened array, for each column, for each\n",
        "row.\n"
      ],
      "metadata": {
        "id": "SV8VFP7GQWb2"
      }
    },
    {
      "cell_type": "code",
      "source": [
        "percentiles = [25, 50, 75]\n",
        "flattened_array = array.flatten()\n",
        "\n",
        "for row_idx, row in enumerate(array):\n",
        "    for col_idx, col in enumerate(row):\n",
        "        print(f\"Percentiles for row {row_idx + 1}, column {col_idx + 1}:\")\n",
        "        print(np.percentile(array, percentiles))\n",
        "        print(\"\")"
      ],
      "metadata": {
        "colab": {
          "base_uri": "https://localhost:8080/"
        },
        "id": "pxnUCBiVTgVd",
        "outputId": "272aa47d-1cef-4f53-f8c4-b4d86abc1fd9"
      },
      "execution_count": null,
      "outputs": [
        {
          "output_type": "stream",
          "name": "stdout",
          "text": [
            "Percentiles for row 1, column 1:\n",
            "[-3.5 -0.5  2.5]\n",
            "\n",
            "Percentiles for row 1, column 2:\n",
            "[-3.5 -0.5  2.5]\n",
            "\n",
            "Percentiles for row 1, column 3:\n",
            "[-3.5 -0.5  2.5]\n",
            "\n",
            "Percentiles for row 2, column 1:\n",
            "[-3.5 -0.5  2.5]\n",
            "\n",
            "Percentiles for row 2, column 2:\n",
            "[-3.5 -0.5  2.5]\n",
            "\n",
            "Percentiles for row 2, column 3:\n",
            "[-3.5 -0.5  2.5]\n",
            "\n"
          ]
        }
      ]
    },
    {
      "cell_type": "markdown",
      "source": [
        "iii. Mean, Median and Standard Deviation of flattened array, of each column, and\n",
        "each row\n"
      ],
      "metadata": {
        "id": "RudTgXUSQc8J"
      }
    },
    {
      "cell_type": "code",
      "source": [
        "mean_flattened = np.mean(flattened_array)\n",
        "median_flattened = np.median(flattened_array)\n",
        "std_dev_flattened = np.std(flattened_array)\n",
        "\n",
        "print(\"Mean of flattened array:\", mean_flattened)\n",
        "print(\"Median of flattened array:\", median_flattened)\n",
        "print(\"Standard Deviation of flattened array:\", std_dev_flattened)\n",
        "\n",
        "for axis in [0, 1]:\n",
        "    print(f\"Axis {axis} statistics:\")\n",
        "    print(\"Mean:\", np.mean(array, axis=axis))\n",
        "    print(\"Median:\", np.median(array, axis=axis))\n",
        "    print(\"Standard Deviation:\", np.std(array, axis=axis))\n",
        "    print(\"\")\n"
      ],
      "metadata": {
        "colab": {
          "base_uri": "https://localhost:8080/"
        },
        "id": "kPDqQwopTgt8",
        "outputId": "811812b4-f23f-4842-b9aa-b80e386a762b"
      },
      "execution_count": null,
      "outputs": [
        {
          "output_type": "stream",
          "name": "stdout",
          "text": [
            "Mean of flattened array: -0.5\n",
            "Median of flattened array: -0.5\n",
            "Standard Deviation of flattened array: 3.8622100754188224\n",
            "Axis 0 statistics:\n",
            "Mean: [-1.5  1.5 -1.5]\n",
            "Median: [-1.5  1.5 -1.5]\n",
            "Standard Deviation: [2.5 3.5 4.5]\n",
            "\n",
            "Axis 1 statistics:\n",
            "Mean: [ 0.66666667 -1.66666667]\n",
            "Median: [ 1. -4.]\n",
            "Standard Deviation: [2.05480467 4.78423336]\n",
            "\n"
          ]
        }
      ]
    },
    {
      "cell_type": "markdown",
      "source": [
        "\n",
        "(b) For the array: a = np.array([-1.8, -1.6, -0.5, 0.5,1.6, 1.8, 3.0]). Find floor, ceiling\n",
        "and truncated value, rounded values"
      ],
      "metadata": {
        "id": "xi093j1LQeQH"
      }
    },
    {
      "cell_type": "code",
      "source": [
        "a = np.array([-1.8, -1.6, -0.5, 0.5, 1.6, 1.8, 3.0])\n",
        "\n",
        "floor_values = np.floor(a)\n",
        "ceiling_values = np.ceil(a)\n",
        "truncated_values = np.trunc(a)\n",
        "rounded_values = np.round(a)\n",
        "\n",
        "print(\"Original Array:\", a)\n",
        "print(\"Floor Values:\", floor_values)\n",
        "print(\"Ceiling Values:\", ceiling_values)\n",
        "print(\"Truncated Values:\", truncated_values)\n",
        "print(\"Rounded Values:\", rounded_values)"
      ],
      "metadata": {
        "colab": {
          "base_uri": "https://localhost:8080/"
        },
        "id": "oUx0luAkThEE",
        "outputId": "67bbfdea-739f-4f10-a956-722725a4ee2f"
      },
      "execution_count": null,
      "outputs": [
        {
          "output_type": "stream",
          "name": "stdout",
          "text": [
            "Original Array: [-1.8 -1.6 -0.5  0.5  1.6  1.8  3. ]\n",
            "Floor Values: [-2. -2. -1.  0.  1.  1.  3.]\n",
            "Ceiling Values: [-1. -1. -0.  1.  2.  2.  3.]\n",
            "Truncated Values: [-1. -1. -0.  0.  1.  1.  3.]\n",
            "Rounded Values: [-2. -2. -0.  0.  2.  2.  3.]\n"
          ]
        }
      ]
    },
    {
      "cell_type": "markdown",
      "source": [
        "\n",
        "\n",
        "---\n",
        "Q3: Based on Searching and Sorting\n",
        "\n",
        "(a) For the array: array = np.array([10, 52, 62, 16, 16, 54, 453]), find\n"
      ],
      "metadata": {
        "id": "z_pPt-wbQgmU"
      }
    },
    {
      "cell_type": "code",
      "source": [
        "array_a = np.array([10, 52, 62, 16, 16, 54, 453])"
      ],
      "metadata": {
        "id": "1ohWv1ugTiEp"
      },
      "execution_count": null,
      "outputs": []
    },
    {
      "cell_type": "markdown",
      "source": [
        "\n",
        "i. Sorted array\n",
        "\n",
        "ii. Indices of sorted array\n",
        "\n",
        "iii. 4 smallest elements\n",
        "\n",
        "iv. 5 largest elements"
      ],
      "metadata": {
        "id": "abBpd4ppV2Ii"
      }
    },
    {
      "cell_type": "code",
      "source": [
        "# i.\n",
        "sorted_array_a = np.sort(array_a)\n",
        "print(\"i. Sorted array:\", sorted_array_a)\n",
        "\n",
        "# ii.\n",
        "indices_sorted_array_a = np.argsort(array_a)\n",
        "print(\"ii. Indices of sorted array:\", indices_sorted_array_a)\n",
        "\n",
        "# iii.\n",
        "smallest_elements_a = np.sort(array_a)[:4]\n",
        "print(\"iii. 4 smallest elements:\", smallest_elements_a)\n",
        "\n",
        "# iv.\n",
        "largest_elements_a = np.sort(array_a)[-5:]\n",
        "print(\"iv. 5 largest elements:\", largest_elements_a)"
      ],
      "metadata": {
        "colab": {
          "base_uri": "https://localhost:8080/"
        },
        "id": "wclCvtkGV4ZE",
        "outputId": "0a8f2ff8-be7a-4e0a-863c-987f9bd583d7"
      },
      "execution_count": null,
      "outputs": [
        {
          "output_type": "stream",
          "name": "stdout",
          "text": [
            "i. Sorted array: [ 10  16  16  52  54  62 453]\n",
            "ii. Indices of sorted array: [0 3 4 1 5 2 6]\n",
            "iii. 4 smallest elements: [10 16 16 52]\n",
            "iv. 5 largest elements: [ 16  52  54  62 453]\n"
          ]
        }
      ]
    },
    {
      "cell_type": "markdown",
      "source": [
        "(b) For the array: array = np.array([1.0, 1.2, 2.2, 2.0, 3.0, 2.0]), find\n",
        "\n"
      ],
      "metadata": {
        "id": "CwJdrMkPQnp6"
      }
    },
    {
      "cell_type": "code",
      "source": [
        "array_b = np.array([1.0, 1.2, 2.2, 2.0, 3.0, 2.0])"
      ],
      "metadata": {
        "id": "j2TqR7Z_Tij6"
      },
      "execution_count": null,
      "outputs": []
    },
    {
      "cell_type": "markdown",
      "source": [
        "i. Integer elements only\n",
        "\n",
        "ii. Float elements only"
      ],
      "metadata": {
        "id": "Qzr8eN6QWJdP"
      }
    },
    {
      "cell_type": "code",
      "source": [
        "# i.\n",
        "integer_elements_b = array_b[array_b.astype(int) == array_b]\n",
        "print(\"i. Integer elements only:\", integer_elements_b)\n",
        "\n",
        "# ii.\n",
        "float_elements_b = array_b[array_b.astype(int) != array_b]\n",
        "print(\"ii. Float elements only:\", float_elements_b)"
      ],
      "metadata": {
        "colab": {
          "base_uri": "https://localhost:8080/"
        },
        "id": "ED9Xxa4aWJ5o",
        "outputId": "473bb0a9-0eec-4ecc-f38e-38b3c243dc5d"
      },
      "execution_count": null,
      "outputs": [
        {
          "output_type": "stream",
          "name": "stdout",
          "text": [
            "i. Integer elements only: [1. 2. 3. 2.]\n",
            "ii. Float elements only: [1.2 2.2]\n"
          ]
        }
      ]
    },
    {
      "cell_type": "markdown",
      "source": [
        "\n",
        "\n",
        "---\n",
        "Q4:\n",
        "(a) Write a function named img_to_array(path) that reads an image from a specified path and\n",
        "save it as text file on local machine? (Note: use separate cases for RGB and Grey Scale\n",
        "images)\n"
      ],
      "metadata": {
        "id": "vTgohybSQq9A"
      }
    },
    {
      "cell_type": "code",
      "source": [
        "from PIL import Image\n",
        "from google.colab import files\n",
        "\n",
        "def img_to_array(path):\n",
        "    image = Image.open(path)\n",
        "    image_array = np.array(image)\n",
        "\n",
        "    if len(image_array.shape) == 3:\n",
        "        np.savetxt(\"rgb_image.txt\", image_array.reshape(-1, 3), fmt=\"%d\")\n",
        "        files.download(\"rgb_image.txt\")\n",
        "        print(\"RGB image pixel values saved to 'rgb_image.txt'.\")\n",
        "\n",
        "    elif len(image_array.shape) == 2:  # Grayscale image\n",
        "        np.savetxt(\"gray_image.txt\", image_array, fmt=\"%d\")\n",
        "        print(\"Grayscale image pixel values saved to 'gray_image.txt'.\")\n",
        "\n",
        "    else:\n",
        "        print(\"Unsupported image format.\")\n",
        "#Path\n",
        "image_path = \"/content/Kheman.jpg\"\n",
        "img_to_array(image_path)\n"
      ],
      "metadata": {
        "id": "NgqJ5cUSTjI5",
        "colab": {
          "base_uri": "https://localhost:8080/",
          "height": 35
        },
        "outputId": "574898a9-83b2-439c-d883-fc9ccc85335f"
      },
      "execution_count": null,
      "outputs": [
        {
          "output_type": "display_data",
          "data": {
            "text/plain": [
              "<IPython.core.display.Javascript object>"
            ],
            "application/javascript": [
              "\n",
              "    async function download(id, filename, size) {\n",
              "      if (!google.colab.kernel.accessAllowed) {\n",
              "        return;\n",
              "      }\n",
              "      const div = document.createElement('div');\n",
              "      const label = document.createElement('label');\n",
              "      label.textContent = `Downloading \"${filename}\": `;\n",
              "      div.appendChild(label);\n",
              "      const progress = document.createElement('progress');\n",
              "      progress.max = size;\n",
              "      div.appendChild(progress);\n",
              "      document.body.appendChild(div);\n",
              "\n",
              "      const buffers = [];\n",
              "      let downloaded = 0;\n",
              "\n",
              "      const channel = await google.colab.kernel.comms.open(id);\n",
              "      // Send a message to notify the kernel that we're ready.\n",
              "      channel.send({})\n",
              "\n",
              "      for await (const message of channel.messages) {\n",
              "        // Send a message to notify the kernel that we're ready.\n",
              "        channel.send({})\n",
              "        if (message.buffers) {\n",
              "          for (const buffer of message.buffers) {\n",
              "            buffers.push(buffer);\n",
              "            downloaded += buffer.byteLength;\n",
              "            progress.value = downloaded;\n",
              "          }\n",
              "        }\n",
              "      }\n",
              "      const blob = new Blob(buffers, {type: 'application/binary'});\n",
              "      const a = document.createElement('a');\n",
              "      a.href = window.URL.createObjectURL(blob);\n",
              "      a.download = filename;\n",
              "      div.appendChild(a);\n",
              "      a.click();\n",
              "      div.remove();\n",
              "    }\n",
              "  "
            ]
          },
          "metadata": {}
        },
        {
          "output_type": "display_data",
          "data": {
            "text/plain": [
              "<IPython.core.display.Javascript object>"
            ],
            "application/javascript": [
              "download(\"download_063cbaac-ce1e-453c-8105-e4258f3837a4\", \"rgb_image.txt\", 76451310)"
            ]
          },
          "metadata": {}
        },
        {
          "output_type": "stream",
          "name": "stdout",
          "text": [
            "RGB image pixel values saved to 'rgb_image.txt'.\n"
          ]
        }
      ]
    },
    {
      "cell_type": "markdown",
      "source": [
        "\n",
        "(b) Load the saved file into jupyter notebook?"
      ],
      "metadata": {
        "id": "sDgDnrN7Qt89"
      }
    },
    {
      "cell_type": "code",
      "source": [
        "#Run this code in Jupiter\n",
        "loaded_array = np.loadtxt(\"rgb_image.txt\")\n",
        "print(\"Loaded array:\")\n",
        "print(loaded_array)\n"
      ],
      "metadata": {
        "id": "hw25v7UhTkAn",
        "colab": {
          "base_uri": "https://localhost:8080/"
        },
        "outputId": "8397094b-f448-4a73-d9d9-cce66839ff6b"
      },
      "execution_count": null,
      "outputs": [
        {
          "output_type": "stream",
          "name": "stdout",
          "text": [
            "Loaded array:\n",
            "[[210. 198. 186.]\n",
            " [211. 198. 189.]\n",
            " [212. 199. 190.]\n",
            " ...\n",
            " [ 77.  69.  58.]\n",
            " [ 76.  70.  58.]\n",
            " [ 73.  69.  57.]]\n"
          ]
        }
      ]
    }
  ]
}